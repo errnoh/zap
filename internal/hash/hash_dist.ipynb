{
 "cells": [
  {
   "cell_type": "markdown",
   "metadata": {},
   "source": [
    "Build the hash generation program, prove that it works:"
   ]
  },
  {
   "cell_type": "code",
   "execution_count": 1,
   "metadata": {
    "collapsed": false
   },
   "outputs": [
    {
     "name": "stdout",
     "output_type": "stream",
     "text": [
      "Usage of ./hash:\r\n",
      "  -hash string\r\n",
      "    \thash function (default \"xshrr\")\r\n",
      "  -n uint\r\n",
      "    \tmod-N (default 4096)\r\n"
     ]
    }
   ],
   "source": [
    "!go build ./hash.go\n",
    "!./hash -h"
   ]
  },
  {
   "cell_type": "markdown",
   "metadata": {},
   "source": [
    "Build a test corpus by joining random ordering of `/usr/share/dict/words` with itself 10 times:"
   ]
  },
  {
   "cell_type": "code",
   "execution_count": 2,
   "metadata": {
    "collapsed": false
   },
   "outputs": [
    {
     "name": "stdout",
     "output_type": "stream",
     "text": [
      "intermammary amphivasal preaccord inkstandish bewrayingly scarf topiarian benzidino rotorcraft emotionless infectiveness\r\n",
      "comism mesoarial repour syphilization pompiloid signally engram grouser hydnoraceous oliviform tamboura\r\n",
      "pyrosphere pollarchy friedelite chesser Akim aegyptilla semiclause primitive pocket centauress bestamp\r\n",
      "wheyfaced pollinar tripotassium spiralization splenonephric nationalness exiler flectionless Dipsacaceae tombic trisection\r\n",
      "distortive septennium bullous longways nonabridgment benzamino unshrouded physicoastronomical belyingly preoperatively unicum\r\n",
      "immunological telakucha testamentarily prelatry dissipative resuscitator assuage unboundedness gleamingly colophony murrina\r\n",
      "daven ethics teevee washbasket Elaphrium glossography Cluniac spermation carousingly Origenism syllable\r\n",
      "sternofacialis ownself thuggee protectant unpleasantness inquisitive philosophocracy clefted larcenously tule curvilinearity\r\n",
      "surrenderor auriferous vulvovaginal gymnosperm foamer pahlavi impassibilibly fairer mountainside prepossessionary triconodontid\r\n",
      "chanteyman rheostatic housewifery protozoacidal superarbiter lustring unexcludable mildness isosulphocyanic Anthropos Nusakan\r\n"
     ]
    }
   ],
   "source": [
    "!shuf /usr/share/dict/words >corpus\n",
    "for i in range(10):\n",
    "    !shuf /usr/share/dict/words >corpus.moar\n",
    "    !paste -d ' ' corpus corpus.moar > corpus.next\n",
    "    !mv corpus.next corpus\n",
    "!head corpus"
   ]
  },
  {
   "cell_type": "markdown",
   "metadata": {},
   "source": [
    "Now run all the hashes, plot their data, and describe the counts:"
   ]
  },
  {
   "cell_type": "code",
   "execution_count": 3,
   "metadata": {
    "collapsed": false
   },
   "outputs": [
    {
     "data": {
      "text/html": [
       "<div>\n",
       "<table border=\"1\" class=\"dataframe\">\n",
       "  <thead>\n",
       "    <tr style=\"text-align: right;\">\n",
       "      <th></th>\n",
       "      <th>count</th>\n",
       "      <th>mean</th>\n",
       "      <th>std</th>\n",
       "      <th>min</th>\n",
       "      <th>25%</th>\n",
       "      <th>50%</th>\n",
       "      <th>75%</th>\n",
       "      <th>90%</th>\n",
       "      <th>99%</th>\n",
       "      <th>max</th>\n",
       "    </tr>\n",
       "  </thead>\n",
       "  <tbody>\n",
       "    <tr>\n",
       "      <th>fnv32</th>\n",
       "      <td>4096.0</td>\n",
       "      <td>57.589355</td>\n",
       "      <td>7.555368</td>\n",
       "      <td>35.0</td>\n",
       "      <td>52.0</td>\n",
       "      <td>57.0</td>\n",
       "      <td>62.0</td>\n",
       "      <td>67.0</td>\n",
       "      <td>77.00</td>\n",
       "      <td>86.0</td>\n",
       "    </tr>\n",
       "    <tr>\n",
       "      <th>fnv32a</th>\n",
       "      <td>4096.0</td>\n",
       "      <td>57.589355</td>\n",
       "      <td>7.523140</td>\n",
       "      <td>33.0</td>\n",
       "      <td>52.0</td>\n",
       "      <td>57.0</td>\n",
       "      <td>63.0</td>\n",
       "      <td>67.0</td>\n",
       "      <td>75.05</td>\n",
       "      <td>84.0</td>\n",
       "    </tr>\n",
       "    <tr>\n",
       "      <th>xshrr</th>\n",
       "      <td>4096.0</td>\n",
       "      <td>57.589355</td>\n",
       "      <td>7.706701</td>\n",
       "      <td>32.0</td>\n",
       "      <td>52.0</td>\n",
       "      <td>57.0</td>\n",
       "      <td>63.0</td>\n",
       "      <td>68.0</td>\n",
       "      <td>76.00</td>\n",
       "      <td>87.0</td>\n",
       "    </tr>\n",
       "  </tbody>\n",
       "</table>\n",
       "</div>"
      ],
      "text/plain": [
       "         count       mean       std   min   25%   50%   75%   90%    99%   max\n",
       "fnv32   4096.0  57.589355  7.555368  35.0  52.0  57.0  62.0  67.0  77.00  86.0\n",
       "fnv32a  4096.0  57.589355  7.523140  33.0  52.0  57.0  63.0  67.0  75.05  84.0\n",
       "xshrr   4096.0  57.589355  7.706701  32.0  52.0  57.0  63.0  68.0  76.00  87.0"
      ]
     },
     "metadata": {},
     "output_type": "display_data"
    },
    {
     "data": {
      "image/png": "[encoded data removed]",
      "text/plain": [
       "<matplotlib.figure.Figure at 0x10d01d6d0>"
      ]
     },
     "metadata": {},
     "output_type": "display_data"
    }
   ],
   "source": [
    "%matplotlib inline\n",
    "\n",
    "import seaborn as sns\n",
    "import matplotlib.pyplot as plt\n",
    "\n",
    "from IPython.display import display\n",
    "\n",
    "import pandas as pd\n",
    "\n",
    "n = 4096\n",
    "data = []\n",
    "\n",
    "for h in ['fnv32', 'fnv32a', 'xshrr']:\n",
    "    lines =!./hash -n $n -hash $h <corpus\n",
    "    S = pd.Series(lines).astype('int')\n",
    "    data.append((h, S))\n",
    "\n",
    "fig, axs = plt.subplots(len(data), 1, sharex=True)\n",
    "for (n, d), ax in zip(data, axs):\n",
    "    ax.set_title(n)\n",
    "    sns.distplot(d, ax=ax)\n",
    "\n",
    "display(pd.DataFrame({\n",
    "    n: d.value_counts().describe(percentiles=[0.25, 0.5, 0.75, 0.9, 0.99])\n",
    "    for n, d in data\n",
    "}).T)"
   ]
  },
  {
   "cell_type": "markdown",
   "metadata": {},
   "source": [
    "Run benchmarks, load data, show it:"
   ]
  },
  {
   "cell_type": "code",
   "execution_count": 4,
   "metadata": {
    "collapsed": false
   },
   "outputs": [
    {
     "data": {
      "text/html": [
       "<div>\n",
       "<table border=\"1\" class=\"dataframe\">\n",
       "  <thead>\n",
       "    <tr style=\"text-align: right;\">\n",
       "      <th></th>\n",
       "      <th>hash</th>\n",
       "      <th>corpus</th>\n",
       "      <th>N</th>\n",
       "      <th>ns/op</th>\n",
       "      <th>B/op</th>\n",
       "    </tr>\n",
       "  </thead>\n",
       "  <tbody>\n",
       "    <tr>\n",
       "      <th>1</th>\n",
       "      <td>XSHRR</td>\n",
       "      <td>some_stuff_I_made_up-8</td>\n",
       "      <td>200000000</td>\n",
       "      <td>7.87</td>\n",
       "      <td>0</td>\n",
       "    </tr>\n",
       "    <tr>\n",
       "      <th>2</th>\n",
       "      <td>XSHRR</td>\n",
       "      <td>shuf_-n50_/usr/share/dict/words-8</td>\n",
       "      <td>100000000</td>\n",
       "      <td>12.80</td>\n",
       "      <td>0</td>\n",
       "    </tr>\n",
       "    <tr>\n",
       "      <th>3</th>\n",
       "      <td>XSHRR</td>\n",
       "      <td>shuf_-n100_/usr/share/dict/words-8</td>\n",
       "      <td>100000000</td>\n",
       "      <td>12.60</td>\n",
       "      <td>0</td>\n",
       "    </tr>\n",
       "    <tr>\n",
       "      <th>4</th>\n",
       "      <td>XSHRR</td>\n",
       "      <td>(shuf_-n100_/usr/share/dict/words)^2-8</td>\n",
       "      <td>50000000</td>\n",
       "      <td>24.90</td>\n",
       "      <td>0</td>\n",
       "    </tr>\n",
       "    <tr>\n",
       "      <th>5</th>\n",
       "      <td>XSHRR</td>\n",
       "      <td>(shuf_-n100_/usr/share/dict/words)^3-8</td>\n",
       "      <td>50000000</td>\n",
       "      <td>40.00</td>\n",
       "      <td>0</td>\n",
       "    </tr>\n",
       "    <tr>\n",
       "      <th>6</th>\n",
       "      <td>XSHRR</td>\n",
       "      <td>(shuf_-n100_/usr/share/dict/words)^4-8</td>\n",
       "      <td>20000000</td>\n",
       "      <td>90.70</td>\n",
       "      <td>0</td>\n",
       "    </tr>\n",
       "    <tr>\n",
       "      <th>7</th>\n",
       "      <td>FNV32a</td>\n",
       "      <td>some_stuff_I_made_up-8</td>\n",
       "      <td>300000000</td>\n",
       "      <td>5.48</td>\n",
       "      <td>0</td>\n",
       "    </tr>\n",
       "    <tr>\n",
       "      <th>8</th>\n",
       "      <td>FNV32a</td>\n",
       "      <td>shuf_-n50_/usr/share/dict/words-8</td>\n",
       "      <td>200000000</td>\n",
       "      <td>9.13</td>\n",
       "      <td>0</td>\n",
       "    </tr>\n",
       "    <tr>\n",
       "      <th>9</th>\n",
       "      <td>FNV32a</td>\n",
       "      <td>shuf_-n100_/usr/share/dict/words-8</td>\n",
       "      <td>200000000</td>\n",
       "      <td>9.17</td>\n",
       "      <td>0</td>\n",
       "    </tr>\n",
       "    <tr>\n",
       "      <th>10</th>\n",
       "      <td>FNV32a</td>\n",
       "      <td>(shuf_-n100_/usr/share/dict/words)^2-8</td>\n",
       "      <td>100000000</td>\n",
       "      <td>20.50</td>\n",
       "      <td>0</td>\n",
       "    </tr>\n",
       "    <tr>\n",
       "      <th>11</th>\n",
       "      <td>FNV32a</td>\n",
       "      <td>(shuf_-n100_/usr/share/dict/words)^3-8</td>\n",
       "      <td>50000000</td>\n",
       "      <td>34.90</td>\n",
       "      <td>0</td>\n",
       "    </tr>\n",
       "    <tr>\n",
       "      <th>12</th>\n",
       "      <td>FNV32a</td>\n",
       "      <td>(shuf_-n100_/usr/share/dict/words)^4-8</td>\n",
       "      <td>20000000</td>\n",
       "      <td>84.70</td>\n",
       "      <td>0</td>\n",
       "    </tr>\n",
       "    <tr>\n",
       "      <th>13</th>\n",
       "      <td>CoreFNV32a</td>\n",
       "      <td>some_stuff_I_made_up-8</td>\n",
       "      <td>30000000</td>\n",
       "      <td>43.80</td>\n",
       "      <td>1</td>\n",
       "    </tr>\n",
       "    <tr>\n",
       "      <th>14</th>\n",
       "      <td>CoreFNV32a</td>\n",
       "      <td>shuf_-n50_/usr/share/dict/words-8</td>\n",
       "      <td>30000000</td>\n",
       "      <td>57.50</td>\n",
       "      <td>1</td>\n",
       "    </tr>\n",
       "    <tr>\n",
       "      <th>15</th>\n",
       "      <td>CoreFNV32a</td>\n",
       "      <td>shuf_-n100_/usr/share/dict/words-8</td>\n",
       "      <td>30000000</td>\n",
       "      <td>58.00</td>\n",
       "      <td>1</td>\n",
       "    </tr>\n",
       "    <tr>\n",
       "      <th>16</th>\n",
       "      <td>CoreFNV32a</td>\n",
       "      <td>(shuf_-n100_/usr/share/dict/words)^2-8</td>\n",
       "      <td>20000000</td>\n",
       "      <td>82.80</td>\n",
       "      <td>1</td>\n",
       "    </tr>\n",
       "    <tr>\n",
       "      <th>17</th>\n",
       "      <td>CoreFNV32a</td>\n",
       "      <td>(shuf_-n100_/usr/share/dict/words)^3-8</td>\n",
       "      <td>20000000</td>\n",
       "      <td>118.00</td>\n",
       "      <td>1</td>\n",
       "    </tr>\n",
       "    <tr>\n",
       "      <th>18</th>\n",
       "      <td>CoreFNV32a</td>\n",
       "      <td>(shuf_-n100_/usr/share/dict/words)^4-8</td>\n",
       "      <td>10000000</td>\n",
       "      <td>202.00</td>\n",
       "      <td>1</td>\n",
       "    </tr>\n",
       "  </tbody>\n",
       "</table>\n",
       "</div>"
      ],
      "text/plain": [
       "          hash                                  corpus          N   ns/op  \\\n",
       "1        XSHRR                  some_stuff_I_made_up-8  200000000    7.87   \n",
       "2        XSHRR       shuf_-n50_/usr/share/dict/words-8  100000000   12.80   \n",
       "3        XSHRR      shuf_-n100_/usr/share/dict/words-8  100000000   12.60   \n",
       "4        XSHRR  (shuf_-n100_/usr/share/dict/words)^2-8   50000000   24.90   \n",
       "5        XSHRR  (shuf_-n100_/usr/share/dict/words)^3-8   50000000   40.00   \n",
       "6        XSHRR  (shuf_-n100_/usr/share/dict/words)^4-8   20000000   90.70   \n",
       "7       FNV32a                  some_stuff_I_made_up-8  300000000    5.48   \n",
       "8       FNV32a       shuf_-n50_/usr/share/dict/words-8  200000000    9.13   \n",
       "9       FNV32a      shuf_-n100_/usr/share/dict/words-8  200000000    9.17   \n",
       "10      FNV32a  (shuf_-n100_/usr/share/dict/words)^2-8  100000000   20.50   \n",
       "11      FNV32a  (shuf_-n100_/usr/share/dict/words)^3-8   50000000   34.90   \n",
       "12      FNV32a  (shuf_-n100_/usr/share/dict/words)^4-8   20000000   84.70   \n",
       "13  CoreFNV32a                  some_stuff_I_made_up-8   30000000   43.80   \n",
       "14  CoreFNV32a       shuf_-n50_/usr/share/dict/words-8   30000000   57.50   \n",
       "15  CoreFNV32a      shuf_-n100_/usr/share/dict/words-8   30000000   58.00   \n",
       "16  CoreFNV32a  (shuf_-n100_/usr/share/dict/words)^2-8   20000000   82.80   \n",
       "17  CoreFNV32a  (shuf_-n100_/usr/share/dict/words)^3-8   20000000  118.00   \n",
       "18  CoreFNV32a  (shuf_-n100_/usr/share/dict/words)^4-8   10000000  202.00   \n",
       "\n",
       "    B/op  \n",
       "1      0  \n",
       "2      0  \n",
       "3      0  \n",
       "4      0  \n",
       "5      0  \n",
       "6      0  \n",
       "7      0  \n",
       "8      0  \n",
       "9      0  \n",
       "10     0  \n",
       "11     0  \n",
       "12     0  \n",
       "13     1  \n",
       "14     1  \n",
       "15     1  \n",
       "16     1  \n",
       "17     1  \n",
       "18     1  "
      ]
     },
     "execution_count": 4,
     "metadata": {},
     "output_type": "execute_result"
    }
   ],
   "source": [
    "test_lines = !go test . -bench . -benchmem\n",
    "\n",
    "test_data = pd.DataFrame(test_lines.fields()).iloc[1:-2]\n",
    "\n",
    "test_data = test_data[0].str.extract(r'''\n",
    "    (?x)     # now we can use comments and whitespace!\n",
    "    ^\n",
    "    BenchmarkHashes\n",
    "    /\n",
    "    (?P<hash>\\w+)\n",
    "    /\n",
    "    (?P<corpus>.+)\n",
    "    $\n",
    "''', expand=True).join(test_data.drop(0, axis=1))\n",
    "\n",
    "test_data['hash'] = test_data['hash'].astype('category')\n",
    "test_data['corpus'] = test_data['corpus'].astype('category')\n",
    "\n",
    "test_data['N'] = test_data.pop(1).astype('int')\n",
    "\n",
    "assert (test_data.pop(3) == 'ns/op').all()\n",
    "test_data['ns/op'] = test_data.pop(2).astype('float')\n",
    "\n",
    "assert (test_data.pop(5) == 'B/op').all()\n",
    "test_data['B/op'] = test_data.pop(4).astype('int')\n",
    "\n",
    "assert (test_data.pop(7) == 'allocs/op').all()\n",
    "test_data['B/op'] = test_data.pop(6).astype('int')\n",
    "\n",
    "test_data"
   ]
  },
  {
   "cell_type": "markdown",
   "metadata": {},
   "source": [
    "Simple plot of ns/op (vs increasing token complexity):"
   ]
  },
  {
   "cell_type": "code",
   "execution_count": 5,
   "metadata": {
    "collapsed": false
   },
   "outputs": [
    {
     "data": {
      "text/html": [
       "<div>\n",
       "<table border=\"1\" class=\"dataframe\">\n",
       "  <thead>\n",
       "    <tr style=\"text-align: right;\">\n",
       "      <th></th>\n",
       "      <th>count</th>\n",
       "      <th>mean</th>\n",
       "      <th>std</th>\n",
       "      <th>min</th>\n",
       "      <th>25%</th>\n",
       "      <th>50%</th>\n",
       "      <th>75%</th>\n",
       "      <th>max</th>\n",
       "    </tr>\n",
       "    <tr>\n",
       "      <th>hash</th>\n",
       "      <th></th>\n",
       "      <th></th>\n",
       "      <th></th>\n",
       "      <th></th>\n",
       "      <th></th>\n",
       "      <th></th>\n",
       "      <th></th>\n",
       "      <th></th>\n",
       "    </tr>\n",
       "  </thead>\n",
       "  <tbody>\n",
       "    <tr>\n",
       "      <th>CoreFNV32a</th>\n",
       "      <td>6.0</td>\n",
       "      <td>93.683333</td>\n",
       "      <td>59.182985</td>\n",
       "      <td>43.80</td>\n",
       "      <td>57.625</td>\n",
       "      <td>70.400</td>\n",
       "      <td>109.200</td>\n",
       "      <td>202.0</td>\n",
       "    </tr>\n",
       "    <tr>\n",
       "      <th>FNV32a</th>\n",
       "      <td>6.0</td>\n",
       "      <td>27.313333</td>\n",
       "      <td>30.112181</td>\n",
       "      <td>5.48</td>\n",
       "      <td>9.140</td>\n",
       "      <td>14.835</td>\n",
       "      <td>31.300</td>\n",
       "      <td>84.7</td>\n",
       "    </tr>\n",
       "    <tr>\n",
       "      <th>XSHRR</th>\n",
       "      <td>6.0</td>\n",
       "      <td>31.478333</td>\n",
       "      <td>31.259316</td>\n",
       "      <td>7.87</td>\n",
       "      <td>12.650</td>\n",
       "      <td>18.850</td>\n",
       "      <td>36.225</td>\n",
       "      <td>90.7</td>\n",
       "    </tr>\n",
       "  </tbody>\n",
       "</table>\n",
       "</div>"
      ],
      "text/plain": [
       "            count       mean        std    min     25%     50%      75%    max\n",
       "hash                                                                          \n",
       "CoreFNV32a    6.0  93.683333  59.182985  43.80  57.625  70.400  109.200  202.0\n",
       "FNV32a        6.0  27.313333  30.112181   5.48   9.140  14.835   31.300   84.7\n",
       "XSHRR         6.0  31.478333  31.259316   7.87  12.650  18.850   36.225   90.7"
      ]
     },
     "metadata": {},
     "output_type": "display_data"
    },
    {
     "data": {
      "text/plain": [
       "hash\n",
       "CoreFNV32a    Axes(0.125,0.125;0.775x0.755)\n",
       "FNV32a        Axes(0.125,0.125;0.775x0.755)\n",
       "XSHRR         Axes(0.125,0.125;0.775x0.755)\n",
       "Name: ns/op, dtype: object"
      ]
     },
     "execution_count": 5,
     "metadata": {},
     "output_type": "execute_result"
    },
    {
     "data": {
      "image/png": "[encoded data removed]",
      "text/plain": [
       "<matplotlib.figure.Figure at 0x1118f04d0>"
      ]
     },
     "metadata": {},
     "output_type": "display_data"
    }
   ],
   "source": [
    "display(test_data.groupby('hash')['ns/op'].describe().unstack())\n",
    "\n",
    "test_data.groupby('hash')['ns/op'].plot(legend=True)"
   ]
  }
 ],
 "metadata": {
  "kernelspec": {
   "display_name": "Python 2",
   "language": "python",
   "name": "python2"
  },
  "language_info": {
   "codemirror_mode": {
    "name": "ipython",
    "version": 2
   },
   "file_extension": ".py",
   "mimetype": "text/x-python",
   "name": "python",
   "nbconvert_exporter": "python",
   "pygments_lexer": "ipython2",
   "version": "2.7.13"
  }
 },
 "nbformat": 4,
 "nbformat_minor": 2
}
